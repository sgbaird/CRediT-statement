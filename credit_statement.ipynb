{
  "nbformat": 4,
  "nbformat_minor": 0,
  "metadata": {
    "colab": {
      "provenance": [],
      "authorship_tag": "ABX9TyPXcBThiu0HLVcu7ua5mpJv",
      "include_colab_link": true
    },
    "kernelspec": {
      "name": "python3",
      "display_name": "Python 3"
    },
    "language_info": {
      "name": "python"
    }
  },
  "cells": [
    {
      "cell_type": "markdown",
      "metadata": {
        "id": "view-in-github",
        "colab_type": "text"
      },
      "source": [
        "<a href=\"https://colab.research.google.com/github/sgbaird/CRediT-statement/blob/main/credit_statement.ipynb\" target=\"_parent\"><img src=\"https://colab.research.google.com/assets/colab-badge.svg\" alt=\"Open In Colab\"/></a>"
      ]
    },
    {
      "cell_type": "code",
      "execution_count": null,
      "metadata": {
        "colab": {
          "base_uri": "https://localhost:8080/"
        },
        "id": "nv-keG8lfWQ2",
        "outputId": "79334f6b-2538-4d35-d2c4-c90195d44c13"
      },
      "outputs": [
        {
          "output_type": "stream",
          "name": "stdout",
          "text": [
            "https://docs.google.com/spreadsheets/d/1DgbpAsD7GmLVrboOnRmMH3ncTyiXBT6-V1x5MBEH2l4/export?format=csv\n"
          ]
        }
      ],
      "source": [
        "# Original Google Sheets URL\n",
        "sheets_url = \"https://docs.google.com/spreadsheets/d/1DgbpAsD7GmLVrboOnRmMH3ncTyiXBT6-V1x5MBEH2l4/edit?usp=sharing\"\n",
        "\n",
        "# Construct the Google Sheets export URL as CSV\n",
        "export_url = sheets_url.replace('/edit?usp=sharing', '/export?format=csv')\n",
        "\n",
        "print(export_url)"
      ]
    },
    {
      "cell_type": "code",
      "source": [],
      "metadata": {
        "id": "mz-DeDqcf8r2"
      },
      "execution_count": null,
      "outputs": []
    }
  ]
}