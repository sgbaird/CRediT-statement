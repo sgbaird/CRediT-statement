{
  "cells": [
    {
      "cell_type": "markdown",
      "metadata": {
        "colab_type": "text",
        "id": "view-in-github"
      },
      "source": [
        "<a href=\"https://colab.research.google.com/github/sgbaird/CRediT-statement/blob/main/credit_statement.ipynb\" target=\"_parent\"><img src=\"https://colab.research.google.com/assets/colab-badge.svg\" alt=\"Open In Colab\"/></a>"
      ]
    },
    {
      "cell_type": "markdown",
      "metadata": {},
      "source": [
        "# CRediT Author Statement Generator\n",
        "\n",
        "⚠️ WARNING: Due to lack of template sharing support by Google Forms and lack of needed features from other free platforms like Microsoft Forms, **I am sharing the Google Form as a publicly editable template, so please do not edit the form directly**. This is a non-ideal workaround. Here are the instructions for making your own copy that you can edit, own, and share:    \n",
        "1. Open `CRediT-template` from [this GDrive folder](https://drive.google.com/drive/folders/1foy9rKJ5BbJVc0YkywhEY-sk7Q9L5MYT?usp=sharing)\n",
        "2. If not logged in, sign in to your Google account\n",
        "3. Click on the three vertical dots at the top-right of the screen and click `Make a Copy`\n",
        "4. Save to somewhere only you have access to\n",
        "5. *Within the copy*, replace `MANUSCRIPT TITLE` with your own title and delete the warning text\n",
        "6. Follow the rest of the instructions in the Google Colab notebook\n",
        "7. Go to `Responses` tab and click `Link to Sheets`\n",
        "8. Click the `Share` button\n",
        "9. Within `General Access` section, click the dropdown and change the permissions to `Anyone with the link`\n",
        "10. Copy the link and paste below (this is the `sheets_url`)"
      ]
    },
    {
      "cell_type": "code",
      "execution_count": 3,
      "metadata": {
        "colab": {
          "base_uri": "https://localhost:8080/"
        },
        "id": "nv-keG8lfWQ2",
        "outputId": "79334f6b-2538-4d35-d2c4-c90195d44c13"
      },
      "outputs": [],
      "source": [
        "# Original Google Sheets URL\n",
        "sheets_url = \"https://docs.google.com/spreadsheets/d/1npol09kvtr98gzFP92NpFFUwJT2zusynysnNWzE-mPk/edit?usp=sharing\" # @param {type:\"string\"}"
      ]
    },
    {
      "cell_type": "code",
      "execution_count": 54,
      "metadata": {
        "id": "mz-DeDqcf8r2"
      },
      "outputs": [
        {
          "name": "stdout",
          "output_type": "stream",
          "text": [
            "https://docs.google.com/spreadsheets/d/1npol09kvtr98gzFP92NpFFUwJT2zusynysnNWzE-mPk/export?format=csv\n"
          ]
        },
        {
          "data": {
            "text/html": [
              "<div>\n",
              "<style scoped>\n",
              "    .dataframe tbody tr th:only-of-type {\n",
              "        vertical-align: middle;\n",
              "    }\n",
              "\n",
              "    .dataframe tbody tr th {\n",
              "        vertical-align: top;\n",
              "    }\n",
              "\n",
              "    .dataframe thead th {\n",
              "        text-align: right;\n",
              "    }\n",
              "</style>\n",
              "<table border=\"1\" class=\"dataframe\">\n",
              "  <thead>\n",
              "    <tr style=\"text-align: right;\">\n",
              "      <th></th>\n",
              "      <th>timestamp</th>\n",
              "      <th>email</th>\n",
              "      <th>name</th>\n",
              "      <th>project</th>\n",
              "      <th>ideas</th>\n",
              "      <th>results</th>\n",
              "      <th>writing</th>\n",
              "      <th>Comments (optional)</th>\n",
              "    </tr>\n",
              "  </thead>\n",
              "  <tbody>\n",
              "    <tr>\n",
              "      <th>0</th>\n",
              "      <td>9/5/2023 15:42:25</td>\n",
              "      <td>sterling.baird@utoronto.ca</td>\n",
              "      <td>Sterling G. Baird</td>\n",
              "      <td>Supervision: Oversight and leadership responsi...</td>\n",
              "      <td>Conceptualization: Ideas; formulation or evolu...</td>\n",
              "      <td>Validation: Verification whether as a part of ...</td>\n",
              "      <td>Writing - Review &amp; Editing: Preparation and/or...</td>\n",
              "      <td>abc</td>\n",
              "    </tr>\n",
              "  </tbody>\n",
              "</table>\n",
              "</div>"
            ],
            "text/plain": [
              "           timestamp                       email               name  \\\n",
              "0  9/5/2023 15:42:25  sterling.baird@utoronto.ca  Sterling G. Baird   \n",
              "\n",
              "                                             project  \\\n",
              "0  Supervision: Oversight and leadership responsi...   \n",
              "\n",
              "                                               ideas  \\\n",
              "0  Conceptualization: Ideas; formulation or evolu...   \n",
              "\n",
              "                                             results  \\\n",
              "0  Validation: Verification whether as a part of ...   \n",
              "\n",
              "                                             writing Comments (optional)  \n",
              "0  Writing - Review & Editing: Preparation and/or...                 abc  "
            ]
          },
          "execution_count": 54,
          "metadata": {},
          "output_type": "execute_result"
        }
      ],
      "source": [
        "# Construct the Google Sheets export URL as CSV\n",
        "export_url = sheets_url.replace(\"/edit?usp=sharing\", \"/export?format=csv\")\n",
        "print(export_url)\n",
        "\n",
        "# import the CSV into a Pandas DataFrame\n",
        "import pandas as pd\n",
        "\n",
        "categories = [\"project\", \"ideas\", \"results\", \"writing\"]\n",
        "raw_df = pd.read_csv(export_url)\n",
        "\n",
        "raw_df.rename(\n",
        "    columns={\n",
        "        \"Timestamp\": \"timestamp\",\n",
        "        \"Email Address\": \"email\",\n",
        "        \"Write your name below (e.g. John C. Doe):\": \"name\",\n",
        "        \"Project-Level\": \"project\",\n",
        "        \"Ideas/Methods\": \"ideas\",\n",
        "        \"Results\": \"results\",\n",
        "        \"Writing/Visualization\": \"writing\",\n",
        "        \"Please list any funding sources that need to be acknowledged in the manuscript.\": \"funding\",\n",
        "        \"Please list any conflicts of interest that need to be included in the manuscript.\": \"conflicts\",\n",
        "        \"Comments\": \"comments\",\n",
        "    },\n",
        "    inplace=True,\n",
        ")\n",
        "\n",
        "raw_df"
      ]
    },
    {
      "cell_type": "code",
      "execution_count": 72,
      "metadata": {},
      "outputs": [
        {
          "data": {
            "text/html": [
              "<div>\n",
              "<style scoped>\n",
              "    .dataframe tbody tr th:only-of-type {\n",
              "        vertical-align: middle;\n",
              "    }\n",
              "\n",
              "    .dataframe tbody tr th {\n",
              "        vertical-align: top;\n",
              "    }\n",
              "\n",
              "    .dataframe thead th {\n",
              "        text-align: right;\n",
              "    }\n",
              "</style>\n",
              "<table border=\"1\" class=\"dataframe\">\n",
              "  <thead>\n",
              "    <tr style=\"text-align: right;\">\n",
              "      <th></th>\n",
              "      <th>timestamp</th>\n",
              "      <th>email</th>\n",
              "      <th>name</th>\n",
              "      <th>project</th>\n",
              "      <th>ideas</th>\n",
              "      <th>results</th>\n",
              "      <th>writing</th>\n",
              "      <th>Comments (optional)</th>\n",
              "      <th>categories</th>\n",
              "      <th>num_categories</th>\n",
              "    </tr>\n",
              "  </thead>\n",
              "  <tbody>\n",
              "    <tr>\n",
              "      <th>0</th>\n",
              "      <td>9/5/2023 15:42:25</td>\n",
              "      <td>sterling.baird@utoronto.ca</td>\n",
              "      <td>Sterling G. Baird</td>\n",
              "      <td>[Supervision, Project administration, Funding ...</td>\n",
              "      <td>[Conceptualization, Methodology, Software]</td>\n",
              "      <td>[Validation, Formal analysis]</td>\n",
              "      <td>[Writing - Review &amp; Editing]</td>\n",
              "      <td>abc</td>\n",
              "      <td>[Supervision, Project administration, Funding ...</td>\n",
              "      <td>9</td>\n",
              "    </tr>\n",
              "  </tbody>\n",
              "</table>\n",
              "</div>"
            ],
            "text/plain": [
              "           timestamp                       email               name  \\\n",
              "0  9/5/2023 15:42:25  sterling.baird@utoronto.ca  Sterling G. Baird   \n",
              "\n",
              "                                             project  \\\n",
              "0  [Supervision, Project administration, Funding ...   \n",
              "\n",
              "                                        ideas                        results  \\\n",
              "0  [Conceptualization, Methodology, Software]  [Validation, Formal analysis]   \n",
              "\n",
              "                        writing Comments (optional)  \\\n",
              "0  [Writing - Review & Editing]                 abc   \n",
              "\n",
              "                                          categories  num_categories  \n",
              "0  [Supervision, Project administration, Funding ...               9  "
            ]
          },
          "execution_count": 72,
          "metadata": {},
          "output_type": "execute_result"
        }
      ],
      "source": [
        "# Helper function for parsing the Google Sheets strings\n",
        "def extract_keys(entry):\n",
        "    \"\"\"Extracts keys from a string of the form 'key1: value1, key2: value2, ...'\n",
        "\n",
        "    Parameters\n",
        "    ----------\n",
        "    entry : str\n",
        "        A string of the form 'key1: value1, key2: value2, ...'\n",
        "\n",
        "    Returns\n",
        "    -------\n",
        "    list of str\n",
        "        A list of keys extracted from the input string.\n",
        "\n",
        "    Examples\n",
        "    --------\n",
        "    >>> entry = 'Supervision: Oversight and leadership responsibility for the research activity planning and execution or including mentorship external to the core team, Project administration: Management and coordination responsibility for the research activity planning and execution, Funding acquisition: Acquisition of the financial support for the project leading to this publication'\n",
        "    >>> extract_keys(entry)\n",
        "    ['Supervision', 'Project administration', 'Funding acquisition']\n",
        "    \"\"\"\n",
        "    if isinstance(entry, str):\n",
        "        keys = [e.split(\":\")[0].strip() for e in entry.split(\",\")]\n",
        "        return keys\n",
        "    \n",
        "    return []\n",
        "\n",
        "# Apply extract_keys to every row in the projects, ideas, results, and writing columns\n",
        "df = raw_df.copy()\n",
        "for col in categories:\n",
        "    df[col] = df[col].apply(extract_keys)\n",
        "\n",
        "# concatenate the category columns into a single column\n",
        "df[\"categories\"] = df[categories].apply(lambda x: x.sum(), axis=1)\n",
        "\n",
        "# drop rows with no categories\n",
        "df = df[df[\"categories\"].apply(len) > 0]\n",
        "\n",
        "# # sort the rows so that authors with the most categories are listed first\n",
        "# df[\"num_categories\"] = df[\"categories\"].apply(len)\n",
        "# df.sort_values(by=[\"num_categories\", \"name\"], ascending=False, inplace=True)\n",
        "\n",
        "# sort the rows by author last name\n",
        "df[\"last_name\"] = df[\"name\"].apply(lambda x: x.split()[-1])\n",
        "df.sort_values(by=[\"last_name\", \"name\"], inplace=True)"
      ]
    },
    {
      "cell_type": "code",
      "execution_count": 71,
      "metadata": {},
      "outputs": [
        {
          "name": "stdout",
          "output_type": "stream",
          "text": [
            "Sterling G. Baird: Supervision, Project administration, Funding acquisition, Conceptualization, Methodology, Software, Validation, Formal analysis, Writing - Review & Editing. \n"
          ]
        }
      ],
      "source": [
        "# Create the final authorship statement \n",
        "authorship_statement = ''\n",
        "for i, row in df.iterrows():\n",
        "    authorship_statement += row['name'] + ': ' + ', '.join(row['categories']) + '. '\n",
        "\n",
        "# Print the final authorship statement\n",
        "print(authorship_statement)"
      ]
    },
    {
      "cell_type": "code",
      "execution_count": 69,
      "metadata": {},
      "outputs": [
        {
          "name": "stdout",
          "output_type": "stream",
          "text": [
            "\\begin{section}\n",
            "\\textbf{Sterling G. Baird}: Supervision, Project administration, Funding acquisition, Conceptualization, Methodology, Software, Validation, Formal analysis, Writing - Review & Editing.\n",
            "\\end{section}\n"
          ]
        }
      ],
      "source": [
        "# Create the TeX-friendly authorship statement\n",
        "authorship_statement = '\\\\begin{section}\\n'\n",
        "for i, row in df.iterrows():\n",
        "    authorship_statement += '\\\\textbf{' + row['name'] + '}: ' + ', '.join(row['categories']) + '. '\n",
        "authorship_statement = authorship_statement[:-1] + '\\n\\\\end{section}'\n",
        "\n",
        "# Print the final authorship statement\n",
        "print(authorship_statement)\n",
        "\n",
        "# write to file\n",
        "with open('credit-statement.tex', 'w') as f:\n",
        "    f.write(authorship_statement)"
      ]
    }
  ],
  "metadata": {
    "colab": {
      "authorship_tag": "ABX9TyPXcBThiu0HLVcu7ua5mpJv",
      "include_colab_link": true,
      "provenance": []
    },
    "kernelspec": {
      "display_name": "Python 3",
      "name": "python3"
    },
    "language_info": {
      "codemirror_mode": {
        "name": "ipython",
        "version": 3
      },
      "file_extension": ".py",
      "mimetype": "text/x-python",
      "name": "python",
      "nbconvert_exporter": "python",
      "pygments_lexer": "ipython3",
      "version": "3.10.12"
    }
  },
  "nbformat": 4,
  "nbformat_minor": 0
}
